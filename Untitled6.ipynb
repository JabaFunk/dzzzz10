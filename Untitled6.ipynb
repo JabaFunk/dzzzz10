{
  "metadata": {
    "language_info": {
      "codemirror_mode": {
        "name": "python",
        "version": 3
      },
      "file_extension": ".py",
      "mimetype": "text/x-python",
      "name": "python",
      "nbconvert_exporter": "python",
      "pygments_lexer": "ipython3",
      "version": "3.8"
    },
    "kernelspec": {
      "name": "python",
      "display_name": "Python (Pyodide)",
      "language": "python"
    }
  },
  "nbformat_minor": 4,
  "nbformat": 4,
  "cells": [
    {
      "cell_type": "code",
      "source": "import numpy as np",
      "metadata": {
        "trusted": true
      },
      "execution_count": 1,
      "outputs": []
    },
    {
      "cell_type": "markdown",
      "source": "Провести дисперсионный анализ для определения того, есть ли различия среднего роста среди взрослых футболистов, хоккеистов и штангистов. Даны значения роста в трех группах случайно выбранных спортсменов: Футболисты: 173, 175, 180, 178, 177, 185, 183, 182. Хоккеисты: 177, 179, 180, 188, 177, 172, 171, 184, 180. Штангисты: 172, 173, 169, 177, 166, 180, 178, 177, 172, 166, 170.",
      "metadata": {}
    },
    {
      "cell_type": "code",
      "source": "n1 = 8\nn2 = 9\nn3 = 11\nn = n1 + n2 + n3\nprint(n)",
      "metadata": {
        "trusted": true
      },
      "execution_count": 2,
      "outputs": [
        {
          "name": "stdout",
          "text": "28\n",
          "output_type": "stream"
        }
      ]
    },
    {
      "cell_type": "markdown",
      "source": "Всего три группы:",
      "metadata": {}
    },
    {
      "cell_type": "code",
      "source": "k = 3",
      "metadata": {
        "trusted": true
      },
      "execution_count": 3,
      "outputs": []
    },
    {
      "cell_type": "markdown",
      "source": "Рост футболистов:",
      "metadata": {}
    },
    {
      "cell_type": "code",
      "source": "y1 = np.array([173, 175, 180, 178, 177, 185, 183, 182], dtype=np.float64)",
      "metadata": {
        "trusted": true
      },
      "execution_count": 6,
      "outputs": []
    },
    {
      "cell_type": "markdown",
      "source": "Рост хоккеистов:",
      "metadata": {}
    },
    {
      "cell_type": "code",
      "source": "y2 = np.array([177, 179, 180, 188, 177, 172, 171, 184, 180], dtype=np.float64)\n",
      "metadata": {
        "trusted": true
      },
      "execution_count": 8,
      "outputs": []
    },
    {
      "cell_type": "markdown",
      "source": "Рост штангистов:",
      "metadata": {}
    },
    {
      "cell_type": "code",
      "source": "y3 = np.array([172, 173, 169, 177, 166, 180, 178, 177, 172, 166, 170], dtype=np.float64)\n",
      "metadata": {
        "trusted": true
      },
      "execution_count": 9,
      "outputs": []
    },
    {
      "cell_type": "markdown",
      "source": "Проведем однофакторный дисперсионный анализ. Сначала найдем средний рост для каждой профессии:",
      "metadata": {}
    },
    {
      "cell_type": "code",
      "source": "y1_mean = np.mean(y1)\nprint(y1_mean)",
      "metadata": {
        "trusted": true
      },
      "execution_count": 10,
      "outputs": [
        {
          "name": "stdout",
          "text": "179.125\n",
          "output_type": "stream"
        }
      ]
    },
    {
      "cell_type": "code",
      "source": "y2_mean = np.mean(y2)\nprint(y2_mean)\n",
      "metadata": {
        "trusted": true
      },
      "execution_count": 11,
      "outputs": [
        {
          "name": "stdout",
          "text": "178.66666666666666\n",
          "output_type": "stream"
        }
      ]
    },
    {
      "cell_type": "code",
      "source": "y3_mean = np.mean(y3)\nprint(y3_mean)",
      "metadata": {
        "trusted": true
      },
      "execution_count": 12,
      "outputs": [
        {
          "name": "stdout",
          "text": "172.72727272727272\n",
          "output_type": "stream"
        }
      ]
    },
    {
      "cell_type": "markdown",
      "source": "\n\nВидно, что средний рост разнится. Установим, что это отличие статистически значимо. Для этого сначала соберем\n\nвсе значения заработных плат в один массив:\n",
      "metadata": {}
    },
    {
      "cell_type": "code",
      "source": "y_all = np.concatenate([y1, y2, y3])\ny_all\n\n",
      "metadata": {
        "trusted": true
      },
      "execution_count": 13,
      "outputs": [
        {
          "execution_count": 13,
          "output_type": "execute_result",
          "data": {
            "text/plain": "array([173., 175., 180., 178., 177., 185., 183., 182., 177., 179., 180.,\n       188., 177., 172., 171., 184., 180., 172., 173., 169., 177., 166.,\n       180., 178., 177., 172., 166., 170.])"
          },
          "metadata": {}
        }
      ]
    },
    {
      "cell_type": "markdown",
      "source": "Найдем среднее значение роста по всем значениям:",
      "metadata": {}
    },
    {
      "cell_type": "code",
      "source": "y_mean = np.mean(y_all)\nprint(y_mean)",
      "metadata": {
        "trusted": true
      },
      "execution_count": 14,
      "outputs": [
        {
          "name": "stdout",
          "text": "176.46428571428572\n",
          "output_type": "stream"
        }
      ]
    },
    {
      "cell_type": "markdown",
      "source": "Найдем сумму квадратов отклонений наблюдений от общего среднего:",
      "metadata": {}
    },
    {
      "cell_type": "code",
      "source": "s2 = np.sum((y_all - y_mean)**2)\ns2",
      "metadata": {
        "trusted": true
      },
      "execution_count": 15,
      "outputs": [
        {
          "execution_count": 15,
          "output_type": "execute_result",
          "data": {
            "text/plain": "830.9642857142854"
          },
          "metadata": {}
        }
      ]
    },
    {
      "cell_type": "markdown",
      "source": "Найдем сумму квадратов отклонений средних групповых значений от общего среднего:\n\n",
      "metadata": {}
    },
    {
      "cell_type": "code",
      "source": "s2_f = ((y1_mean - y_mean)**2) * n1 + ((y2_mean - y_mean)**2) * n2 + ((y3_mean - y_mean)**2) * n3\ns2_f\n",
      "metadata": {
        "trusted": true
      },
      "execution_count": 16,
      "outputs": [
        {
          "execution_count": 16,
          "output_type": "execute_result",
          "data": {
            "text/plain": "253.9074675324678"
          },
          "metadata": {}
        }
      ]
    },
    {
      "cell_type": "markdown",
      "source": "Найдем остаточную сумму квадратов отклонений:\n\n",
      "metadata": {}
    },
    {
      "cell_type": "code",
      "source": "s2_residual = np.sum((y1 - y1_mean)**2) + np.sum((y2 - y2_mean)**2) + np.sum((y3 - y3_mean)**2)\ns2_residual\n",
      "metadata": {
        "trusted": true
      },
      "execution_count": 17,
      "outputs": [
        {
          "execution_count": 17,
          "output_type": "execute_result",
          "data": {
            "text/plain": "577.0568181818182"
          },
          "metadata": {}
        }
      ]
    },
    {
      "cell_type": "markdown",
      "source": "Удостоверимся, что соблюдается равенство\n",
      "metadata": {}
    },
    {
      "cell_type": "code",
      "source": "print(s2)\nprint(s2_f + s2_residual)",
      "metadata": {
        "trusted": true
      },
      "execution_count": 18,
      "outputs": [
        {
          "name": "stdout",
          "text": "830.9642857142854\n830.964285714286\n",
          "output_type": "stream"
        }
      ]
    },
    {
      "cell_type": "markdown",
      "source": "\n\nНайдем общую дисперсию:\n\n",
      "metadata": {}
    },
    {
      "cell_type": "code",
      "source": "sigma2_general = s2 / (n - 1)\nsigma2_general",
      "metadata": {
        "trusted": true
      },
      "execution_count": 19,
      "outputs": [
        {
          "execution_count": 19,
          "output_type": "execute_result",
          "data": {
            "text/plain": "30.776455026455015"
          },
          "metadata": {}
        }
      ]
    },
    {
      "cell_type": "markdown",
      "source": "Найдем факторную дисперсию:",
      "metadata": {}
    },
    {
      "cell_type": "code",
      "source": "sigma2_f = s2_f / (k - 1)\nsigma2_f",
      "metadata": {
        "trusted": true
      },
      "execution_count": 20,
      "outputs": [
        {
          "execution_count": 20,
          "output_type": "execute_result",
          "data": {
            "text/plain": "126.9537337662339"
          },
          "metadata": {}
        }
      ]
    },
    {
      "cell_type": "markdown",
      "source": "Найдем остаточную дисперсию:",
      "metadata": {}
    },
    {
      "cell_type": "code",
      "source": "sigma2_residual = s2_residual / (n - k)\nsigma2_residual\n",
      "metadata": {
        "trusted": true
      },
      "execution_count": 21,
      "outputs": [
        {
          "execution_count": 21,
          "output_type": "execute_result",
          "data": {
            "text/plain": "23.08227272727273"
          },
          "metadata": {}
        }
      ]
    },
    {
      "cell_type": "markdown",
      "source": "Вычислим:",
      "metadata": {}
    },
    {
      "cell_type": "code",
      "source": "F_h = sigma2_f / sigma2_residual\nF_h",
      "metadata": {
        "trusted": true
      },
      "execution_count": 22,
      "outputs": [
        {
          "execution_count": 22,
          "output_type": "execute_result",
          "data": {
            "text/plain": "5.500053450812598"
          },
          "metadata": {}
        }
      ]
    },
    {
      "cell_type": "markdown",
      "source": "Гипотеза отвергнута, но различия роста втрёх группах статистически значимо",
      "metadata": {}
    },
    {
      "cell_type": "code",
      "source": "",
      "metadata": {},
      "execution_count": null,
      "outputs": []
    }
  ]
}